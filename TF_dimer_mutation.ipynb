{
 "cells": [
  {
   "cell_type": "code",
   "execution_count": 31,
   "metadata": {
    "collapsed": true
   },
   "outputs": [],
   "source": [
    "from pymol import cmd"
   ]
  },
  {
   "cell_type": "markdown",
   "source": [
    "Based on this Code: https://github.com/mariaangelesjs/Mutagenesis-with-PyMOL/blob/master/AlanineMutagenesis.py"
   ],
   "metadata": {
    "collapsed": false,
    "pycharm": {
     "name": "#%% md\n"
    }
   }
  },
  {
   "cell_type": "code",
   "execution_count": 24,
   "outputs": [],
   "source": [
    "aa_classes = {'aliphatic': ['GLY', 'ALA', 'VAL', 'LEU', 'ILE'],\n",
    "              'hydroxyl_sulfor': ['SER', 'CYS', 'THR', 'MET'],\n",
    "              'cyclic': ['PRO'],\n",
    "              'aromatic': ['PHE', 'TYR', 'TRP'],\n",
    "              'basic': ['HIS', 'LYS', 'ARG'],\n",
    "              'acidic': ['ASP', 'GLU', 'ASN', 'GLN']}"
   ],
   "metadata": {
    "collapsed": false,
    "pycharm": {
     "name": "#%%\n"
    }
   }
  },
  {
   "cell_type": "code",
   "execution_count": 50,
   "outputs": [],
   "source": [
    "def mutate_protein(protein_pdb_name, position, new_aa, output_name):\n",
    "    #cmd.refresh()\n",
    "    cmd.load(f'TF_dimer/{protein_pdb_name}.pdb')\n",
    "    for chain in ['A', 'B']:\n",
    "        cmd.wizard(\"mutagenesis\")\n",
    "        cmd.do(\"refresh_wizard\")\n",
    "        cmd.get_wizard().set_mode(new_aa)\n",
    "        cmd.get_wizard().do_select(f\"/{protein_pdb_name}//{chain}/{position}\")\n",
    "        #cmd.frame(11)\n",
    "        cmd.get_wizard().apply()\n",
    "    pdb = cmd.get_pdbstr(protein_pdb_name)\n",
    "    f = open(f\"TF_dimer/{output_name}.pdb\", \"w\")\n",
    "    f.write(pdb)\n",
    "    f.close()\n",
    "    cmd.set_wizard(\"done\")\n",
    "    cmd.reinitialize('everything')"
   ],
   "metadata": {
    "collapsed": false,
    "pycharm": {
     "name": "#%%\n"
    }
   }
  },
  {
   "cell_type": "code",
   "execution_count": 25,
   "outputs": [],
   "source": [
    "original_aa_in_seq = {\n",
    "    39: 'PRO', 40: 'THR', 41: 'LEU', 42: 'TYR', 43: 'TRP', 44: 'HIS'}"
   ],
   "metadata": {
    "collapsed": false,
    "pycharm": {
     "name": "#%%\n"
    }
   }
  },
  {
   "cell_type": "code",
   "execution_count": 51,
   "outputs": [
    {
     "name": "stdout",
     "output_type": "stream",
     "text": [
      "Selected!PyMOL>refresh_wizard\n",
      "\n",
      " ExecutiveRMSPairs: RMSD =    0.026 (4 to 4 atoms)\n",
      " Mutagenesis: 3 rotamers loaded.\n",
      " Rotamer 2/3, strain=9.39\n",
      "Selected!PyMOL>refresh_wizard\n",
      "\n",
      " ExecutiveRMSPairs: RMSD =    0.026 (4 to 4 atoms)\n",
      " Mutagenesis: 3 rotamers loaded.\n",
      " Rotamer 2/3, strain=9.38\n",
      "Selected!\n",
      "PyMOL>refresh_wizard\n",
      " ExecutiveRMSPairs: RMSD =    0.030 (4 to 4 atoms)\n",
      " Mutagenesis: 3 rotamers loaded.\n",
      " Rotamer 1/3, strain=9.76\n",
      "Selected!PyMOL>refresh_wizard\n",
      "\n",
      " ExecutiveRMSPairs: RMSD =    0.030 (4 to 4 atoms)\n",
      " Mutagenesis: 3 rotamers loaded.\n",
      " Rotamer 1/3, strain=9.76\n",
      "Selected!PyMOL>refresh_wizard\n",
      "\n",
      " ExecutiveRMSPairs: RMSD =    0.023 (4 to 4 atoms)\n",
      " Mutagenesis: 13 rotamers loaded.\n",
      " Rotamer 2/13, strain=13.05\n",
      "Selected!PyMOL>refresh_wizard\n",
      "\n",
      " ExecutiveRMSPairs: RMSD =    0.023 (4 to 4 atoms)\n",
      " Mutagenesis: 13 rotamers loaded.\n",
      " Rotamer 2/13, strain=13.05\n",
      "Selected!PyMOL>refresh_wizard\n",
      "\n",
      " ExecutiveRMSPairs: RMSD =    0.023 (3 to 3 atoms)\n",
      " Mutagenesis: no rotamers found in library.\n",
      "Selected!PyMOL>refresh_wizard\n",
      "\n",
      " ExecutiveRMSPairs: RMSD =    0.023 (3 to 3 atoms)\n",
      " Mutagenesis: no rotamers found in library.\n",
      "Selected!PyMOL>refresh_wizard\n",
      "\n",
      " ExecutiveRMSPairs: RMSD =    0.021 (4 to 4 atoms)\n",
      " Mutagenesis: no rotamers found in library.\n",
      "Selected!\n",
      "PyMOL>refresh_wizard\n",
      " ExecutiveRMSPairs: RMSD =    0.021 (4 to 4 atoms)\n",
      " Mutagenesis: no rotamers found in library.\n",
      "Selected!PyMOL>refresh_wizard\n",
      "\n",
      " ExecutiveRMSPairs: RMSD =    0.030 (4 to 4 atoms)\n",
      " Mutagenesis: 3 rotamers loaded.\n",
      " Rotamer 3/3, strain=17.28\n",
      "Selected!PyMOL>refresh_wizard\n",
      "\n",
      " ExecutiveRMSPairs: RMSD =    0.030 (4 to 4 atoms)\n",
      " Mutagenesis: 3 rotamers loaded.\n",
      " Rotamer 3/3, strain=17.30\n",
      "Selected!PyMOL>refresh_wizard\n",
      "\n",
      " ExecutiveRMSPairs: RMSD =    0.036 (4 to 4 atoms)\n",
      " Mutagenesis: 6 rotamers loaded.\n",
      " Rotamer 4/6, strain=11.21\n",
      "Selected!\n",
      "PyMOL>refresh_wizard\n",
      " ExecutiveRMSPairs: RMSD =    0.036 (4 to 4 atoms)\n",
      " Mutagenesis: 6 rotamers loaded.\n",
      " Rotamer 4/6, strain=11.23\n",
      "Selected!PyMOL>refresh_wizard\n",
      "\n",
      " ExecutiveRMSPairs: RMSD =    0.035 (4 to 4 atoms)\n",
      " Mutagenesis: 4 rotamers loaded.\n",
      " Rotamer 1/4, strain=18.15\n",
      "Selected!\n",
      "PyMOL>refresh_wizard\n",
      " ExecutiveRMSPairs: RMSD =    0.035 (4 to 4 atoms)\n",
      " Mutagenesis: 4 rotamers loaded.\n",
      " Rotamer 1/4, strain=18.14\n",
      "Selected!PyMOL>refresh_wizard\n",
      "\n",
      " ExecutiveRMSPairs: RMSD =    0.032 (4 to 4 atoms)\n",
      " Mutagenesis: 8 rotamers loaded.\n",
      " Rotamer 8/8, strain=13.27\n",
      "Selected!PyMOL>refresh_wizard\n",
      "\n",
      " ExecutiveRMSPairs: RMSD =    0.032 (4 to 4 atoms)\n",
      " Mutagenesis: 8 rotamers loaded.\n",
      " Rotamer 8/8, strain=13.27\n",
      "PyMOL>refresh_wizard\n",
      "Selected!\n",
      " ExecutiveRMSPairs: RMSD =    0.028 (4 to 4 atoms)\n",
      " Mutagenesis: 4 rotamers loaded.\n",
      " Rotamer 1/4, strain=10.19\n",
      "Selected!\n",
      "PyMOL>refresh_wizard\n",
      " ExecutiveRMSPairs: RMSD =    0.027 (4 to 4 atoms)\n",
      " Mutagenesis: 4 rotamers loaded.\n",
      " Rotamer 1/4, strain=10.19\n",
      "Selected!PyMOL>refresh_wizard\n",
      "\n",
      " ExecutiveRMSPairs: RMSD =    0.033 (4 to 4 atoms)\n",
      " Mutagenesis: 3 rotamers loaded.\n",
      " Rotamer 1/3, strain=13.57\n",
      "Selected!\n",
      "PyMOL>refresh_wizard\n",
      " ExecutiveRMSPairs: RMSD =    0.032 (4 to 4 atoms)\n",
      " Mutagenesis: 3 rotamers loaded.\n",
      " Rotamer 1/3, strain=13.58\n",
      "PyMOL>refresh_wizard\n",
      "Selected!\n",
      " ExecutiveRMSPairs: RMSD =    0.028 (4 to 4 atoms)\n",
      " Mutagenesis: 13 rotamers loaded.\n",
      " Rotamer 2/13, strain=7.26\n",
      "Selected!PyMOL>refresh_wizard\n",
      "\n",
      " ExecutiveRMSPairs: RMSD =    0.028 (4 to 4 atoms)\n",
      " Mutagenesis: 13 rotamers loaded.\n",
      " Rotamer 2/13, strain=7.26\n",
      "Selected!PyMOL>refresh_wizard\n",
      "\n",
      " ExecutiveRMSPairs: RMSD =    0.028 (4 to 4 atoms)\n",
      " Mutagenesis: 16 rotamers loaded.\n",
      " Rotamer 4/16, strain=6.65\n",
      "Selected!PyMOL>refresh_wizard\n",
      "\n",
      " ExecutiveRMSPairs: RMSD =    0.028 (4 to 4 atoms)\n",
      " Mutagenesis: 16 rotamers loaded.\n",
      " Rotamer 4/16, strain=6.65\n"
     ]
    }
   ],
   "source": [
    "for position in original_aa_in_seq.keys():\n",
    "    aa = original_aa_in_seq[position]\n",
    "    for aa_class in aa_classes.values():\n",
    "        if aa in aa_class:\n",
    "            for mutate_to_aa in aa_class:\n",
    "                if mutate_to_aa!=aa:\n",
    "                    mutate_protein('original', position, mutate_to_aa, f'{position}_{mutate_to_aa}')"
   ],
   "metadata": {
    "collapsed": false,
    "pycharm": {
     "name": "#%%\n"
    }
   }
  }
 ],
 "metadata": {
  "kernelspec": {
   "display_name": "Python 3",
   "language": "python",
   "name": "python3"
  },
  "language_info": {
   "codemirror_mode": {
    "name": "ipython",
    "version": 2
   },
   "file_extension": ".py",
   "mimetype": "text/x-python",
   "name": "python",
   "nbconvert_exporter": "python",
   "pygments_lexer": "ipython2",
   "version": "2.7.6"
  }
 },
 "nbformat": 4,
 "nbformat_minor": 0
}